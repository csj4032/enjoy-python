{
 "cells": [
  {
   "cell_type": "code",
   "execution_count": 1,
   "id": "93b02c1f-6fe7-432a-aa02-593b3fdac925",
   "metadata": {},
   "outputs": [],
   "source": [
    "import time\n",
    "import random\n",
    "import platform\n",
    "\n",
    "from selenium import webdriver\n",
    "from selenium.webdriver.common.by import By\n",
    "from selenium.webdriver.common.keys import Keys\n",
    "from selenium.webdriver.support.ui import WebDriverWait\n",
    "from selenium.webdriver.support import expected_conditions as EC\n",
    "from selenium.webdriver.firefox.options import Options\n",
    "from selenium.webdriver.firefox.service import Service\n",
    "from webdriver_manager.firefox import GeckoDriverManager"
   ]
  },
  {
   "cell_type": "code",
   "execution_count": 2,
   "id": "f6e9870f-38ae-4872-90fc-68bbd2cb0676",
   "metadata": {},
   "outputs": [],
   "source": [
    "options = Options()\n",
    "options.add_argument(\"-profile\")\n",
    "options.add_argument(\"/Users/genius/Library/Application Support/Firefox/Profiles/fsqapq5q.Genius\")\n",
    "options.add_argument(\"—headless\")\n",
    "options.add_argument(\"—window-size=1920,1080\")\n",
    "options.add_argument(\"—disable-gpu\")\n",
    "service = Service(executable_path=\"/opt/homebrew/bin/geckodriver\")"
   ]
  },
  {
   "cell_type": "code",
   "execution_count": 3,
   "id": "16510626-a26c-4764-8f46-0ac29659ccf3",
   "metadata": {},
   "outputs": [],
   "source": [
    "def window_scrollBy_more(driver, range_, x_coord, y_coord):\n",
    "    for index in range(range_):\n",
    "        driver.execute_script(f\"window.scrollBy({x_coord}, {y_coord});\")\n",
    "        more_button = None\n",
    "        try:\n",
    "            more_button = WebDriverWait(driver, 2).until(EC.element_to_be_clickable((By.CSS_SELECTOR, \"button.button_show__VRCFg\")))\n",
    "            if more_button != None:\n",
    "                more_button.click()\n",
    "                time.sleep(random.uniform(0, 1))\n",
    "        except Exception as e:\n",
    "            pass\n",
    "\n",
    "def parse_post(post_element):\n",
    "    try:\n",
    "        link = post_element.find_element(By.CLASS_NAME, \"link__A4O1D\").get_attribute('href')\n",
    "        name = post_element.find_element(By.CSS_SELECTOR, \".text__f81dq\").text.strip()\n",
    "        try:\n",
    "            like_text = post_element.find_element(By.CSS_SELECTOR, \".like__vTXys\").text.strip()\n",
    "            likes = int(like_text) if like_text.isdigit() else 0\n",
    "        except NoSuchElementException:\n",
    "            likes = 0\n",
    "        return {'link': link, 'name': name, 'likes': likes}\n",
    "    except NoSuchElementException:\n",
    "        return None"
   ]
  },
  {
   "cell_type": "code",
   "execution_count": 4,
   "id": "f618894d-fa91-4eed-9663-22931a218f5c",
   "metadata": {},
   "outputs": [
    {
     "name": "stdout",
     "output_type": "stream",
     "text": [
      "작업 종료\n"
     ]
    }
   ],
   "source": [
    "try:\n",
    "    driver = webdriver.Firefox(service=service, options=options)\n",
    "    driver.set_window_position(-2560, 0)\n",
    "    driver.get(\"https://m.blog.naver.com\")\n",
    "    \n",
    "    time.sleep(random.uniform(0, 1))\n",
    "    recommend_link = WebDriverWait(driver, 5).until(EC.element_to_be_clickable((By.CSS_SELECTOR, \"a[data-click-area='lnb.rec']\")))\n",
    "    recommend_link.click()\n",
    "\n",
    "    window_scrollBy_more(driver, 10, 0, 500)\n",
    "    post_list = driver.find_elements(By.CLASS_NAME, \"postlist__qxOgF\")\n",
    "    top_post = max((post for post in (parse_post(p) for p in post_list) if post), key=lambda post: post['likes'], default=None)\n",
    "    \n",
    "    time.sleep(random.uniform(1, 2))\n",
    "    driver.get(top_post['link'])\n",
    "\n",
    "except Exception as e:\n",
    "    print(f\"작업 중 오류 발생: {e}\")\n",
    "finally:\n",
    "    time.sleep(10)\n",
    "    driver.quit()\n",
    "    print(f\"작업 종료\")"
   ]
  },
  {
   "cell_type": "code",
   "execution_count": null,
   "id": "2e9c17f5-c22b-49f1-a4c7-83ec514feb74",
   "metadata": {},
   "outputs": [],
   "source": []
  }
 ],
 "metadata": {
  "kernelspec": {
   "display_name": "Genius",
   "language": "python",
   "name": "genius"
  },
  "language_info": {
   "codemirror_mode": {
    "name": "ipython",
    "version": 3
   },
   "file_extension": ".py",
   "mimetype": "text/x-python",
   "name": "python",
   "nbconvert_exporter": "python",
   "pygments_lexer": "ipython3",
   "version": "3.10.13"
  }
 },
 "nbformat": 4,
 "nbformat_minor": 5
}
